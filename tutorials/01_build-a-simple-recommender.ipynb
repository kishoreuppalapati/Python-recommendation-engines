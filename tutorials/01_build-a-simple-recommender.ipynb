{
 "cells": [
  {
   "cell_type": "markdown",
   "id": "ea9ec6d2",
   "metadata": {},
   "source": [
    "# Build a simple recommender \n",
    "\n",
    "A simple recommender simply requires a metric to rank all objects by (i.e. it will recommend the highest ranked objects).    \n",
    "\n",
    "In this way, a simple recommender can be coded as a business rule and benchmarked against more advanced machine learning methods. The output from a simple recommender can still be filtered to output a more refined list for individual user types.  \n",
    "\n",
    "## Tutorial source  \n",
    "The Datacamp community tutorial [Beginner Tutorial: Recommender Systems in Python](https://www.datacamp.com/community/tutorials/recommender-systems-python) by Aditya Sharma.    \n",
    "\n",
    "## Dataset source  \n",
    "We will use a cleaned csv file of all [45,000 IMDB movies](https://www.kaggle.com/rounakbanik/the-movies-dataset/data) to try and predict the [IMDB Top 250 movies](https://www.kaggle.com/mukul1904/imdb-top-250) using our own simple recommender.   "
   ]
  },
  {
   "cell_type": "code",
   "execution_count": 1,
   "id": "d6da6630",
   "metadata": {},
   "outputs": [],
   "source": [
    "# Import Python libraries ----\n",
    "import pathlib\n",
    "import numpy as np\n",
    "import pandas as pd\n",
    "import matplotlib.pyplot as plt\n",
    "import seaborn as sns"
   ]
  },
  {
   "cell_type": "code",
   "execution_count": 2,
   "id": "8670e5ae",
   "metadata": {},
   "outputs": [],
   "source": [
    "# Import dataset as Pandas data frame ---- \n",
    "data_filepath = pathlib.Path.cwd().parent.joinpath('data',\n",
    "                                                   'IMDB_all_movies',\n",
    "                                                   'movies_metadata.csv') \n",
    "\n",
    "movie_metadata = pd.read_csv(data_filepath, low_memory = False)  "
   ]
  },
  {
   "cell_type": "code",
   "execution_count": 3,
   "id": "ff811ad6",
   "metadata": {
    "scrolled": true
   },
   "outputs": [
    {
     "data": {
      "text/html": [
       "<div>\n",
       "<style scoped>\n",
       "    .dataframe tbody tr th:only-of-type {\n",
       "        vertical-align: middle;\n",
       "    }\n",
       "\n",
       "    .dataframe tbody tr th {\n",
       "        vertical-align: top;\n",
       "    }\n",
       "\n",
       "    .dataframe thead th {\n",
       "        text-align: right;\n",
       "    }\n",
       "</style>\n",
       "<table border=\"1\" class=\"dataframe\">\n",
       "  <thead>\n",
       "    <tr style=\"text-align: right;\">\n",
       "      <th></th>\n",
       "      <th>adult</th>\n",
       "      <th>belongs_to_collection</th>\n",
       "      <th>budget</th>\n",
       "      <th>genres</th>\n",
       "      <th>homepage</th>\n",
       "      <th>id</th>\n",
       "      <th>imdb_id</th>\n",
       "      <th>original_language</th>\n",
       "      <th>original_title</th>\n",
       "      <th>overview</th>\n",
       "      <th>...</th>\n",
       "      <th>release_date</th>\n",
       "      <th>revenue</th>\n",
       "      <th>runtime</th>\n",
       "      <th>spoken_languages</th>\n",
       "      <th>status</th>\n",
       "      <th>tagline</th>\n",
       "      <th>title</th>\n",
       "      <th>video</th>\n",
       "      <th>vote_average</th>\n",
       "      <th>vote_count</th>\n",
       "    </tr>\n",
       "  </thead>\n",
       "  <tbody>\n",
       "    <tr>\n",
       "      <th>0</th>\n",
       "      <td>False</td>\n",
       "      <td>{'id': 10194, 'name': 'Toy Story Collection', ...</td>\n",
       "      <td>30000000</td>\n",
       "      <td>[{'id': 16, 'name': 'Animation'}, {'id': 35, '...</td>\n",
       "      <td>http://toystory.disney.com/toy-story</td>\n",
       "      <td>862</td>\n",
       "      <td>tt0114709</td>\n",
       "      <td>en</td>\n",
       "      <td>Toy Story</td>\n",
       "      <td>Led by Woody, Andy's toys live happily in his ...</td>\n",
       "      <td>...</td>\n",
       "      <td>1995-10-30</td>\n",
       "      <td>373554033.0</td>\n",
       "      <td>81.0</td>\n",
       "      <td>[{'iso_639_1': 'en', 'name': 'English'}]</td>\n",
       "      <td>Released</td>\n",
       "      <td>NaN</td>\n",
       "      <td>Toy Story</td>\n",
       "      <td>False</td>\n",
       "      <td>7.7</td>\n",
       "      <td>5415.0</td>\n",
       "    </tr>\n",
       "    <tr>\n",
       "      <th>1</th>\n",
       "      <td>False</td>\n",
       "      <td>NaN</td>\n",
       "      <td>65000000</td>\n",
       "      <td>[{'id': 12, 'name': 'Adventure'}, {'id': 14, '...</td>\n",
       "      <td>NaN</td>\n",
       "      <td>8844</td>\n",
       "      <td>tt0113497</td>\n",
       "      <td>en</td>\n",
       "      <td>Jumanji</td>\n",
       "      <td>When siblings Judy and Peter discover an encha...</td>\n",
       "      <td>...</td>\n",
       "      <td>1995-12-15</td>\n",
       "      <td>262797249.0</td>\n",
       "      <td>104.0</td>\n",
       "      <td>[{'iso_639_1': 'en', 'name': 'English'}, {'iso...</td>\n",
       "      <td>Released</td>\n",
       "      <td>Roll the dice and unleash the excitement!</td>\n",
       "      <td>Jumanji</td>\n",
       "      <td>False</td>\n",
       "      <td>6.9</td>\n",
       "      <td>2413.0</td>\n",
       "    </tr>\n",
       "    <tr>\n",
       "      <th>2</th>\n",
       "      <td>False</td>\n",
       "      <td>{'id': 119050, 'name': 'Grumpy Old Men Collect...</td>\n",
       "      <td>0</td>\n",
       "      <td>[{'id': 10749, 'name': 'Romance'}, {'id': 35, ...</td>\n",
       "      <td>NaN</td>\n",
       "      <td>15602</td>\n",
       "      <td>tt0113228</td>\n",
       "      <td>en</td>\n",
       "      <td>Grumpier Old Men</td>\n",
       "      <td>A family wedding reignites the ancient feud be...</td>\n",
       "      <td>...</td>\n",
       "      <td>1995-12-22</td>\n",
       "      <td>0.0</td>\n",
       "      <td>101.0</td>\n",
       "      <td>[{'iso_639_1': 'en', 'name': 'English'}]</td>\n",
       "      <td>Released</td>\n",
       "      <td>Still Yelling. Still Fighting. Still Ready for...</td>\n",
       "      <td>Grumpier Old Men</td>\n",
       "      <td>False</td>\n",
       "      <td>6.5</td>\n",
       "      <td>92.0</td>\n",
       "    </tr>\n",
       "  </tbody>\n",
       "</table>\n",
       "<p>3 rows × 24 columns</p>\n",
       "</div>"
      ],
      "text/plain": [
       "   adult                              belongs_to_collection    budget  \\\n",
       "0  False  {'id': 10194, 'name': 'Toy Story Collection', ...  30000000   \n",
       "1  False                                                NaN  65000000   \n",
       "2  False  {'id': 119050, 'name': 'Grumpy Old Men Collect...         0   \n",
       "\n",
       "                                              genres  \\\n",
       "0  [{'id': 16, 'name': 'Animation'}, {'id': 35, '...   \n",
       "1  [{'id': 12, 'name': 'Adventure'}, {'id': 14, '...   \n",
       "2  [{'id': 10749, 'name': 'Romance'}, {'id': 35, ...   \n",
       "\n",
       "                               homepage     id    imdb_id original_language  \\\n",
       "0  http://toystory.disney.com/toy-story    862  tt0114709                en   \n",
       "1                                   NaN   8844  tt0113497                en   \n",
       "2                                   NaN  15602  tt0113228                en   \n",
       "\n",
       "     original_title                                           overview  ...  \\\n",
       "0         Toy Story  Led by Woody, Andy's toys live happily in his ...  ...   \n",
       "1           Jumanji  When siblings Judy and Peter discover an encha...  ...   \n",
       "2  Grumpier Old Men  A family wedding reignites the ancient feud be...  ...   \n",
       "\n",
       "  release_date      revenue runtime  \\\n",
       "0   1995-10-30  373554033.0    81.0   \n",
       "1   1995-12-15  262797249.0   104.0   \n",
       "2   1995-12-22          0.0   101.0   \n",
       "\n",
       "                                    spoken_languages    status  \\\n",
       "0           [{'iso_639_1': 'en', 'name': 'English'}]  Released   \n",
       "1  [{'iso_639_1': 'en', 'name': 'English'}, {'iso...  Released   \n",
       "2           [{'iso_639_1': 'en', 'name': 'English'}]  Released   \n",
       "\n",
       "                                             tagline             title  video  \\\n",
       "0                                                NaN         Toy Story  False   \n",
       "1          Roll the dice and unleash the excitement!           Jumanji  False   \n",
       "2  Still Yelling. Still Fighting. Still Ready for...  Grumpier Old Men  False   \n",
       "\n",
       "  vote_average vote_count  \n",
       "0          7.7     5415.0  \n",
       "1          6.9     2413.0  \n",
       "2          6.5       92.0  \n",
       "\n",
       "[3 rows x 24 columns]"
      ]
     },
     "execution_count": 3,
     "metadata": {},
     "output_type": "execute_result"
    }
   ],
   "source": [
    "# View film_metadata ----\n",
    "movie_metadata.head(3)"
   ]
  },
  {
   "cell_type": "markdown",
   "id": "08ddcfaf",
   "metadata": {},
   "source": [
    "# Step 1: Create ranking metric  \n",
    "\n",
    "## Use a raw score \n",
    "The simplest metric for ranking movies would be by the `vote_average` score.  "
   ]
  },
  {
   "cell_type": "code",
   "execution_count": 4,
   "id": "ae69f1f3",
   "metadata": {},
   "outputs": [
    {
     "data": {
      "text/plain": [
       "Text(-9.075000000000003, 0.5, 'Number of movies')"
      ]
     },
     "execution_count": 4,
     "metadata": {},
     "output_type": "execute_result"
    },
    {
     "data": {
      "image/png": "[encoded data removed]",
      "text/plain": [
       "<Figure size 360x360 with 1 Axes>"
      ]
     },
     "metadata": {
      "needs_background": "light"
     },
     "output_type": "display_data"
    }
   ],
   "source": [
    "# Visualise vote average distribution ----\n",
    "sns.displot(movie_metadata[\"vote_average\"], bins = 10)\n",
    "plt.xlabel(\"Average vote\") \n",
    "plt.ylabel(\"Number of movies\")"
   ]
  },
  {
   "cell_type": "markdown",
   "id": "418b1545",
   "metadata": {},
   "source": [
    "The distribution of `vote_average` is slightly negatively skewed as we would expect the majority of movies to score relatively favourably, or the movie industry would quickly bankrupt itself.   \n",
    "\n",
    "A slight bimodal distribution also exists, where a small subset of movies are rated very poorly. This distribution could originate from voting behaviours. I.e. a mediocre movie may be voted a score between 3 and 5 compared to a terrible movie, which will be consistently voted a score of 1. Alternatively, it could reflect a real phenonmenon in the movie making industry, where some movies are deliberately created to be terrible.     "
   ]
  },
  {
   "cell_type": "markdown",
   "id": "7d332428",
   "metadata": {},
   "source": [
    "## Use a weighted score\n",
    "\n",
    "Alternatively, a weighted metric for ranking movies would factor: \n",
    "+ A minimum threshold for the number of votes a movies needs to have.    \n",
    "+ A method of weighting the film score by the number of votes (relative to each other so that movies with a higher number of votes have a higher movie score weighting).    \n",
    "\n",
    "$$WeightedScore = (\\frac{v}{v + m} \\times R) + (\\frac{m}{v + m} \\times A)$$ \n",
    "\n",
    "Where:  \n",
    "+ **v** is the number of votes an individual movie has.   \n",
    "+ **m** is the minimum number of votes a movie needs to have to be included.    \n",
    "+ **R** is the average vote of an individual movie.    \n",
    "+ **C** is the average vote calculated across all included movies.    \n",
    "\n",
    "The advantage of this weighted score is:  \n",
    "+ Movies with a small number of votes will be penalised more by **m** i.e. **R** is multiplied by a smaller number.  \n",
    "+ The average score of movies is used as the penalty weight, rather than the minimum score of 1. This is a more realistic penalty weight as the majority of movies score well above 1.  \n",
    "\n",
    "The disadvantage of this weighted score is:  \n",
    "+ If the threshold **m** is too low, movies with a small number of votes but a very high score will be weighted relatively more favourably than movies with an extremely high number of votes and a slightly lower score.    "
   ]
  },
  {
   "cell_type": "code",
   "execution_count": 5,
   "id": "8815a50f",
   "metadata": {
    "scrolled": true
   },
   "outputs": [
    {
     "name": "stdout",
     "output_type": "stream",
     "text": [
      "The impact on final weight when m = 10 is 4.98019801980198 versus 4.498501498501499.\n",
      "The impact on final weight when m = 1000 is 4.0 versus 4.636363636363636.\n"
     ]
    }
   ],
   "source": [
    "# Test for weighted metric weaknesses ---- \n",
    "test_1 = (1000 / (1000 + 10) * 5) + (10 / (1000 + 10) * 3)\n",
    "test_2 = (10000 / (10000 + 10) * 4.5) + (10 / (10000 + 10) * 3)  \n",
    "\n",
    "test_3 = (1000 / (1000 + 1000) * 5) + (1000 / (1000 + 1000) * 3)\n",
    "test_4 = (10000 / (10000 + 1000) * 4.8) + (1000 / (10000 + 1000) * 3)  \n",
    "\n",
    "print(\"The impact on final weight when m = 10 is {0} versus {1}.\".format(test_1, test_2))\n",
    "print(\"The impact on final weight when m = 1000 is {0} versus {1}.\".format(test_3, test_4))"
   ]
  },
  {
   "cell_type": "markdown",
   "id": "389a14bd",
   "metadata": {},
   "source": [
    "In this tutorial, we have decided to define **m** as the 95th percentile for `vote_count` as it is an extremely positively skewed distribution.     "
   ]
  },
  {
   "cell_type": "code",
   "execution_count": 6,
   "id": "013aeb5a",
   "metadata": {},
   "outputs": [
    {
     "name": "stdout",
     "output_type": "stream",
     "text": [
      "The 95% percentile for vote_count is 434.0\n"
     ]
    }
   ],
   "source": [
    "# Find 95th percentile of vote count ---- \n",
    "counts = movie_metadata[\"vote_count\"].to_numpy(dtype = np.int32)\n",
    "m = np.percentile(counts, 95) \n",
    "m = np.round(m, decimals = 0)\n",
    "\n",
    "print(\"The 95% percentile for vote_count is {0}\".format(m))  "
   ]
  },
  {
   "cell_type": "code",
   "execution_count": 7,
   "id": "795d75e7",
   "metadata": {},
   "outputs": [
    {
     "data": {
      "text/plain": [
       "<matplotlib.lines.Line2D at 0x241ee4f88c8>"
      ]
     },
     "execution_count": 7,
     "metadata": {},
     "output_type": "execute_result"
    },
    {
     "data": {
      "image/png": "[encoded data removed]",
      "text/plain": [
       "<Figure size 360x360 with 1 Axes>"
      ]
     },
     "metadata": {
      "needs_background": "light"
     },
     "output_type": "display_data"
    }
   ],
   "source": [
    "# Visualise vote count distribution ----\n",
    "sns.displot(movie_metadata[\"vote_count\"], bins=50)\n",
    "plt.xlabel(\"Number of votes\") \n",
    "plt.ylabel(\"Number of movies\")\n",
    "plt.axvline(x = m, ymin = 0, ymax = max(movie_metadata[\"vote_count\"]),\n",
    "            color = \"firebrick\", linestyle = \"--\")"
   ]
  },
  {
   "cell_type": "code",
   "execution_count": 8,
   "id": "851d40d0",
   "metadata": {},
   "outputs": [
    {
     "name": "stdout",
     "output_type": "stream",
     "text": [
      "(45466, 24)\n",
      "(2268, 24)\n"
     ]
    }
   ],
   "source": [
    "# Filter movies list by vote_count > m ----  \n",
    "movie_metadata_clean = movie_metadata.copy()\n",
    "movie_metadata_clean = (movie_metadata.loc[movie_metadata.vote_count > m].\n",
    "                       reset_index(drop = True))\n",
    "\n",
    "                       \n",
    "print(movie_metadata.shape) # 45466 movies in original dataset     \n",
    "print(movie_metadata_clean.shape) # 2268 movies as selected data inputs  "
   ]
  },
  {
   "cell_type": "markdown",
   "id": "667887a6",
   "metadata": {},
   "source": [
    "**Note:** When filtering by `m`, remember to [avoid chain indexing](https://pandas.pydata.org/pandas-docs/stable/user_guide/indexing.html#returning-a-view-versus-a-copy) by appending `.loc` to the data frame.  "
   ]
  },
  {
   "cell_type": "code",
   "execution_count": 9,
   "id": "1fa6aada",
   "metadata": {},
   "outputs": [
    {
     "name": "stdout",
     "output_type": "stream",
     "text": [
      "The median for vote_count is 6.0.\n"
     ]
    }
   ],
   "source": [
    "# Calculate A ----  \n",
    "votes_clean = movie_metadata[\"vote_average\"].to_numpy(dtype = np.int32)\n",
    "A = np.median(votes_clean) \n",
    "\n",
    "print(\"The median for vote_count is {0}.\".format(A))  "
   ]
  },
  {
   "cell_type": "code",
   "execution_count": 10,
   "id": "e1608ea6",
   "metadata": {},
   "outputs": [],
   "source": [
    "# Calculate weighted score ----  \n",
    "def weighted_vote_average(df, m = m, A = A): \n",
    "    v = df[\"vote_count\"] \n",
    "    R = df[\"vote_average\"] \n",
    "    \n",
    "    return((v / (v + m) * R ) + (m / (v + m) * A))  \n",
    "\n",
    "movie_metadata_clean[\"weighted_score\"] = movie_metadata_clean.apply(weighted_vote_average, axis = 1)"
   ]
  },
  {
   "cell_type": "code",
   "execution_count": 11,
   "id": "84461b6e",
   "metadata": {},
   "outputs": [
    {
     "data": {
      "text/plain": [
       "<AxesSubplot:xlabel='vote_average', ylabel='Count'>"
      ]
     },
     "execution_count": 11,
     "metadata": {},
     "output_type": "execute_result"
    },
    {
     "data": {
      "image/png": "[encoded data removed]",
      "text/plain": [
       "<Figure size 432x288 with 1 Axes>"
      ]
     },
     "metadata": {
      "needs_background": "light"
     },
     "output_type": "display_data"
    }
   ],
   "source": [
    "# Examine distribution of weighted_score versus vote_average ----  \n",
    "fig, ax = plt.subplots()\n",
    "sns.histplot(movie_metadata_clean[\"vote_average\"], element = \"step\", color = \"steelblue\", ax = ax)\n",
    "sns.histplot(movie_metadata_clean[\"weighted_score\"], element = \"step\", color = \"aliceblue\", ax = ax)"
   ]
  },
  {
   "cell_type": "markdown",
   "id": "91899e13",
   "metadata": {},
   "source": [
    "# Construct recommender output\n",
    "\n",
    "Make filterable widget"
   ]
  },
  {
   "cell_type": "code",
   "execution_count": 12,
   "id": "fa8faae6",
   "metadata": {},
   "outputs": [
    {
     "name": "stdout",
     "output_type": "stream",
     "text": [
      "<class 'pandas.core.frame.DataFrame'>\n",
      "RangeIndex: 45466 entries, 0 to 45465\n",
      "Data columns (total 24 columns):\n",
      " #   Column                 Non-Null Count  Dtype  \n",
      "---  ------                 --------------  -----  \n",
      " 0   adult                  45466 non-null  object \n",
      " 1   belongs_to_collection  4494 non-null   object \n",
      " 2   budget                 45466 non-null  object \n",
      " 3   genres                 45466 non-null  object \n",
      " 4   homepage               7782 non-null   object \n",
      " 5   id                     45466 non-null  object \n",
      " 6   imdb_id                45449 non-null  object \n",
      " 7   original_language      45455 non-null  object \n",
      " 8   original_title         45466 non-null  object \n",
      " 9   overview               44512 non-null  object \n",
      " 10  popularity             45461 non-null  object \n",
      " 11  poster_path            45080 non-null  object \n",
      " 12  production_companies   45463 non-null  object \n",
      " 13  production_countries   45463 non-null  object \n",
      " 14  release_date           45379 non-null  object \n",
      " 15  revenue                45460 non-null  float64\n",
      " 16  runtime                45203 non-null  float64\n",
      " 17  spoken_languages       45460 non-null  object \n",
      " 18  status                 45379 non-null  object \n",
      " 19  tagline                20412 non-null  object \n",
      " 20  title                  45460 non-null  object \n",
      " 21  video                  45460 non-null  object \n",
      " 22  vote_average           45460 non-null  float64\n",
      " 23  vote_count             45460 non-null  float64\n",
      "dtypes: float64(4), object(20)\n",
      "memory usage: 8.3+ MB\n"
     ]
    }
   ],
   "source": [
    "# View film_metadata columns ----\n",
    "movie_metadata.info()"
   ]
  },
  {
   "cell_type": "markdown",
   "id": "917a1c11",
   "metadata": {},
   "source": [
    "# Resources  \n",
    "\n",
    "+ A [Datacamp community tutorial](https://www.datacamp.com/community/tutorials/recommender-systems-python) covering an introduction to recommender systems for beginners.     "
   ]
  }
 ],
 "metadata": {
  "kernelspec": {
   "display_name": "Python 3",
   "language": "python",
   "name": "python3"
  },
  "language_info": {
   "codemirror_mode": {
    "name": "ipython",
    "version": 3
   },
   "file_extension": ".py",
   "mimetype": "text/x-python",
   "name": "python",
   "nbconvert_exporter": "python",
   "pygments_lexer": "ipython3",
   "version": "3.7.10"
  }
 },
 "nbformat": 4,
 "nbformat_minor": 5
}
