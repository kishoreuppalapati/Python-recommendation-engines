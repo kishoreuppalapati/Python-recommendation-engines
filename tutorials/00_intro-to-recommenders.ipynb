{
 "cells": [
  {
   "cell_type": "markdown",
   "id": "2b0c6eac",
   "metadata": {},
   "source": [
    "# Introduction to recommender systems  \n",
    "\n",
    "## Aim: \n",
    "\n",
    "The purpose of recommender systems is to match individual users to the product that they are most likely to interact with (or purchase) based on past data about how other users have interacted with the same or similar products.  \n",
    "\n",
    "This is based on generating a predictive score of item appeal for each individual user.   \n",
    "\n",
    "## Types of recommender systems  \n",
    "\n",
    "### Simple recommenders   \n",
    "\n",
    "These recommenders do not predict item appeal scores for individual users, but focus on ranking individual items by their mass appeal likelihood (i.e. item appeal predictions are based on past inferences of high appeal item characteristics). \n",
    "\n",
    "The metric for item ranking (i.e. whether it best reflects the intention behind displaying items to users) will greatly impact the quality of a simple recommender.   \n",
    "\n",
    "A method of weighting item ranking by the number of unique user interactions is also incorporated, as we consider an item with a high ranking but few user interactions recorded to be less appealing than an iterm with a slightly lower ranking but many user interactions recorded.  \n",
    "\n",
    "### Content-based recommenders    \n",
    "\n",
    "The key assumption is that an individual user will prefer items that are similar to items that they have interacted with before.  \n",
    "\n",
    "This system relies on:  \n",
    "+ Item metadata (i.e. consistently curated characteristics of an item) and  \n",
    "+ Historical user item interaction data (i.e. product browsing history) from individual users.  \n",
    "\n",
    "A method of weighting historical purchases so that the most recent purchases are most highly weighted is also incorporated. This relies on a secondary assumption that the user will have relative freedom in interacting with all items by choice i.e. historical user interaction data is not skewed by the system itself.     \n",
    "\n",
    "However, a positive feedback loop can easily be created when users are recommended the same item types, which skews their browser history towards recommended item types.  \n",
    "\n",
    "### Collaborative filtering engines  \n",
    "\n",
    "The key assumption is that individual new users will behave similarly to past collective users (or user segments). Item predictive scores are calculated for individual users based on the likelihood of past similar users in interacting with this particular item.  \n",
    "\n",
    "These systems do not require item metadata for generating predictive scores and are widely used. "
   ]
  },
  {
   "cell_type": "markdown",
   "id": "c3f501b0",
   "metadata": {},
   "source": [
    "# Build a simple recommender \n",
    "\n",
    "**Tutorial source:** The Datacamp community tutorial [Beginner Tutorial: Recommender Systems in Python](https://www.datacamp.com/community/tutorials/recommender-systems-python) by Aditya Sharma.    \n",
    "\n",
    "**Dataset source:** We will use a cleaned csv file of all [45,000 IMDB movies](https://www.kaggle.com/rounakbanik/the-movies-dataset/data) to try and predict the [IMDB Top 250 movies](https://www.kaggle.com/mukul1904/imdb-top-250) using our own simple recommender.   "
   ]
  },
  {
   "cell_type": "code",
   "execution_count": 1,
   "id": "ffe0b39f",
   "metadata": {},
   "outputs": [],
   "source": [
    "# Import Python libraries ----\n",
    "import pathlib\n",
    "import pandas as pd\n",
    "import matplotlib.pyplot as plt\n",
    "import seaborn as sns"
   ]
  },
  {
   "cell_type": "code",
   "execution_count": 2,
   "id": "12265679",
   "metadata": {},
   "outputs": [],
   "source": [
    "# Import dataset as Pandas data frame ---- \n",
    "data_filepath = pathlib.Path.cwd().parent.joinpath('data',\n",
    "                                                   'IMDB_all_movies',\n",
    "                                                   'movies_metadata.csv') \n",
    "\n",
    "film_metadata = pd.read_csv(data_filepath, low_memory=False)  "
   ]
  },
  {
   "cell_type": "code",
   "execution_count": 3,
   "id": "23ed7899",
   "metadata": {},
   "outputs": [
    {
     "data": {
      "text/html": [
       "<div>\n",
       "<style scoped>\n",
       "    .dataframe tbody tr th:only-of-type {\n",
       "        vertical-align: middle;\n",
       "    }\n",
       "\n",
       "    .dataframe tbody tr th {\n",
       "        vertical-align: top;\n",
       "    }\n",
       "\n",
       "    .dataframe thead th {\n",
       "        text-align: right;\n",
       "    }\n",
       "</style>\n",
       "<table border=\"1\" class=\"dataframe\">\n",
       "  <thead>\n",
       "    <tr style=\"text-align: right;\">\n",
       "      <th></th>\n",
       "      <th>adult</th>\n",
       "      <th>belongs_to_collection</th>\n",
       "      <th>budget</th>\n",
       "      <th>genres</th>\n",
       "      <th>homepage</th>\n",
       "      <th>id</th>\n",
       "      <th>imdb_id</th>\n",
       "      <th>original_language</th>\n",
       "      <th>original_title</th>\n",
       "      <th>overview</th>\n",
       "      <th>...</th>\n",
       "      <th>release_date</th>\n",
       "      <th>revenue</th>\n",
       "      <th>runtime</th>\n",
       "      <th>spoken_languages</th>\n",
       "      <th>status</th>\n",
       "      <th>tagline</th>\n",
       "      <th>title</th>\n",
       "      <th>video</th>\n",
       "      <th>vote_average</th>\n",
       "      <th>vote_count</th>\n",
       "    </tr>\n",
       "  </thead>\n",
       "  <tbody>\n",
       "    <tr>\n",
       "      <th>0</th>\n",
       "      <td>False</td>\n",
       "      <td>{'id': 10194, 'name': 'Toy Story Collection', ...</td>\n",
       "      <td>30000000</td>\n",
       "      <td>[{'id': 16, 'name': 'Animation'}, {'id': 35, '...</td>\n",
       "      <td>http://toystory.disney.com/toy-story</td>\n",
       "      <td>862</td>\n",
       "      <td>tt0114709</td>\n",
       "      <td>en</td>\n",
       "      <td>Toy Story</td>\n",
       "      <td>Led by Woody, Andy's toys live happily in his ...</td>\n",
       "      <td>...</td>\n",
       "      <td>1995-10-30</td>\n",
       "      <td>373554033.0</td>\n",
       "      <td>81.0</td>\n",
       "      <td>[{'iso_639_1': 'en', 'name': 'English'}]</td>\n",
       "      <td>Released</td>\n",
       "      <td>NaN</td>\n",
       "      <td>Toy Story</td>\n",
       "      <td>False</td>\n",
       "      <td>7.7</td>\n",
       "      <td>5415.0</td>\n",
       "    </tr>\n",
       "    <tr>\n",
       "      <th>1</th>\n",
       "      <td>False</td>\n",
       "      <td>NaN</td>\n",
       "      <td>65000000</td>\n",
       "      <td>[{'id': 12, 'name': 'Adventure'}, {'id': 14, '...</td>\n",
       "      <td>NaN</td>\n",
       "      <td>8844</td>\n",
       "      <td>tt0113497</td>\n",
       "      <td>en</td>\n",
       "      <td>Jumanji</td>\n",
       "      <td>When siblings Judy and Peter discover an encha...</td>\n",
       "      <td>...</td>\n",
       "      <td>1995-12-15</td>\n",
       "      <td>262797249.0</td>\n",
       "      <td>104.0</td>\n",
       "      <td>[{'iso_639_1': 'en', 'name': 'English'}, {'iso...</td>\n",
       "      <td>Released</td>\n",
       "      <td>Roll the dice and unleash the excitement!</td>\n",
       "      <td>Jumanji</td>\n",
       "      <td>False</td>\n",
       "      <td>6.9</td>\n",
       "      <td>2413.0</td>\n",
       "    </tr>\n",
       "    <tr>\n",
       "      <th>2</th>\n",
       "      <td>False</td>\n",
       "      <td>{'id': 119050, 'name': 'Grumpy Old Men Collect...</td>\n",
       "      <td>0</td>\n",
       "      <td>[{'id': 10749, 'name': 'Romance'}, {'id': 35, ...</td>\n",
       "      <td>NaN</td>\n",
       "      <td>15602</td>\n",
       "      <td>tt0113228</td>\n",
       "      <td>en</td>\n",
       "      <td>Grumpier Old Men</td>\n",
       "      <td>A family wedding reignites the ancient feud be...</td>\n",
       "      <td>...</td>\n",
       "      <td>1995-12-22</td>\n",
       "      <td>0.0</td>\n",
       "      <td>101.0</td>\n",
       "      <td>[{'iso_639_1': 'en', 'name': 'English'}]</td>\n",
       "      <td>Released</td>\n",
       "      <td>Still Yelling. Still Fighting. Still Ready for...</td>\n",
       "      <td>Grumpier Old Men</td>\n",
       "      <td>False</td>\n",
       "      <td>6.5</td>\n",
       "      <td>92.0</td>\n",
       "    </tr>\n",
       "  </tbody>\n",
       "</table>\n",
       "<p>3 rows × 24 columns</p>\n",
       "</div>"
      ],
      "text/plain": [
       "   adult                              belongs_to_collection    budget  \\\n",
       "0  False  {'id': 10194, 'name': 'Toy Story Collection', ...  30000000   \n",
       "1  False                                                NaN  65000000   \n",
       "2  False  {'id': 119050, 'name': 'Grumpy Old Men Collect...         0   \n",
       "\n",
       "                                              genres  \\\n",
       "0  [{'id': 16, 'name': 'Animation'}, {'id': 35, '...   \n",
       "1  [{'id': 12, 'name': 'Adventure'}, {'id': 14, '...   \n",
       "2  [{'id': 10749, 'name': 'Romance'}, {'id': 35, ...   \n",
       "\n",
       "                               homepage     id    imdb_id original_language  \\\n",
       "0  http://toystory.disney.com/toy-story    862  tt0114709                en   \n",
       "1                                   NaN   8844  tt0113497                en   \n",
       "2                                   NaN  15602  tt0113228                en   \n",
       "\n",
       "     original_title                                           overview  ...  \\\n",
       "0         Toy Story  Led by Woody, Andy's toys live happily in his ...  ...   \n",
       "1           Jumanji  When siblings Judy and Peter discover an encha...  ...   \n",
       "2  Grumpier Old Men  A family wedding reignites the ancient feud be...  ...   \n",
       "\n",
       "  release_date      revenue runtime  \\\n",
       "0   1995-10-30  373554033.0    81.0   \n",
       "1   1995-12-15  262797249.0   104.0   \n",
       "2   1995-12-22          0.0   101.0   \n",
       "\n",
       "                                    spoken_languages    status  \\\n",
       "0           [{'iso_639_1': 'en', 'name': 'English'}]  Released   \n",
       "1  [{'iso_639_1': 'en', 'name': 'English'}, {'iso...  Released   \n",
       "2           [{'iso_639_1': 'en', 'name': 'English'}]  Released   \n",
       "\n",
       "                                             tagline             title  video  \\\n",
       "0                                                NaN         Toy Story  False   \n",
       "1          Roll the dice and unleash the excitement!           Jumanji  False   \n",
       "2  Still Yelling. Still Fighting. Still Ready for...  Grumpier Old Men  False   \n",
       "\n",
       "  vote_average vote_count  \n",
       "0          7.7     5415.0  \n",
       "1          6.9     2413.0  \n",
       "2          6.5       92.0  \n",
       "\n",
       "[3 rows x 24 columns]"
      ]
     },
     "execution_count": 3,
     "metadata": {},
     "output_type": "execute_result"
    }
   ],
   "source": [
    "# View film_metadata ----\n",
    "film_metadata.head(3)"
   ]
  },
  {
   "cell_type": "markdown",
   "id": "45842976",
   "metadata": {},
   "source": [
    "### Step 1: Create ranking metric  \n",
    "\n",
    "The simplest metric for ranking films would be by the `vote_average` score.  \n",
    "\n",
    "**Note:** This distribution is slightly negatively skewed (as we would expect most movies to be produced with the intention of being well-received, or the entire movie industry would quickly bankrupt itself)."
   ]
  },
  {
   "cell_type": "code",
   "execution_count": 4,
   "id": "afa74a46",
   "metadata": {},
   "outputs": [
    {
     "data": {
      "text/plain": [
       "Text(-9.075000000000003, 0.5, 'Number of films voted')"
      ]
     },
     "execution_count": 4,
     "metadata": {},
     "output_type": "execute_result"
    },
    {
     "data": {
      "image/png": "[encoded data removed]",
      "text/plain": [
       "<Figure size 360x360 with 1 Axes>"
      ]
     },
     "metadata": {
      "needs_background": "light"
     },
     "output_type": "display_data"
    }
   ],
   "source": [
    "sns.displot(film_metadata[\"vote_average\"], bins=10)\n",
    "plt.xlabel(\"Film vote\") \n",
    "plt.ylabel(\"Number of films voted\")"
   ]
  },
  {
   "cell_type": "markdown",
   "id": "d1caaa87",
   "metadata": {},
   "source": [
    "Alternatively, a weighted metric for ranking films would factor: \n",
    "+ A minimum threshold for the number of votes a film needs to have and  \n",
    "+ A method of weighting the film score by the number of votes (relative to each other so that films with a higher number of votes have a higher `vote_average` score weighting).    \n",
    "\n",
    "$$WeightedScore = (\\frac{v}{v + m} \\times R) + (\\frac{m}{v + m} \\times A)$$\n"
   ]
  },
  {
   "cell_type": "markdown",
   "id": "89db6d75",
   "metadata": {},
   "source": [
    "### Step 2: Examine item metadata \n",
    "\n",
    "We would be interested in selected the features that we think might collectively contribute to a film's rating. "
   ]
  },
  {
   "cell_type": "code",
   "execution_count": 5,
   "id": "4ebf4c67",
   "metadata": {},
   "outputs": [
    {
     "name": "stdout",
     "output_type": "stream",
     "text": [
      "<class 'pandas.core.frame.DataFrame'>\n",
      "RangeIndex: 45466 entries, 0 to 45465\n",
      "Data columns (total 24 columns):\n",
      " #   Column                 Non-Null Count  Dtype  \n",
      "---  ------                 --------------  -----  \n",
      " 0   adult                  45466 non-null  object \n",
      " 1   belongs_to_collection  4494 non-null   object \n",
      " 2   budget                 45466 non-null  object \n",
      " 3   genres                 45466 non-null  object \n",
      " 4   homepage               7782 non-null   object \n",
      " 5   id                     45466 non-null  object \n",
      " 6   imdb_id                45449 non-null  object \n",
      " 7   original_language      45455 non-null  object \n",
      " 8   original_title         45466 non-null  object \n",
      " 9   overview               44512 non-null  object \n",
      " 10  popularity             45461 non-null  object \n",
      " 11  poster_path            45080 non-null  object \n",
      " 12  production_companies   45463 non-null  object \n",
      " 13  production_countries   45463 non-null  object \n",
      " 14  release_date           45379 non-null  object \n",
      " 15  revenue                45460 non-null  float64\n",
      " 16  runtime                45203 non-null  float64\n",
      " 17  spoken_languages       45460 non-null  object \n",
      " 18  status                 45379 non-null  object \n",
      " 19  tagline                20412 non-null  object \n",
      " 20  title                  45460 non-null  object \n",
      " 21  video                  45460 non-null  object \n",
      " 22  vote_average           45460 non-null  float64\n",
      " 23  vote_count             45460 non-null  float64\n",
      "dtypes: float64(4), object(20)\n",
      "memory usage: 8.3+ MB\n"
     ]
    }
   ],
   "source": [
    "# View film_metadata columns ----\n",
    "film_metadata.info()"
   ]
  },
  {
   "cell_type": "markdown",
   "id": "512b2813",
   "metadata": {},
   "source": [
    "# Resources  \n",
    "\n",
    "+ A [Datacamp community tutorial](https://www.datacamp.com/community/tutorials/recommender-systems-python) covering an introduction to recommender systems for beginners.     \n",
    "+ Eugene Yan's [blog posts on recommender systems](https://eugeneyan.com/tag/recsys/)  \n",
    "+ Eugene Yan's [GitHub recommender systems tutorial](https://github.com/eugeneyan/recsys-nlp-graph)   "
   ]
  }
 ],
 "metadata": {
  "kernelspec": {
   "display_name": "Python 3",
   "language": "python",
   "name": "python3"
  },
  "language_info": {
   "codemirror_mode": {
    "name": "ipython",
    "version": 3
   },
   "file_extension": ".py",
   "mimetype": "text/x-python",
   "name": "python",
   "nbconvert_exporter": "python",
   "pygments_lexer": "ipython3",
   "version": "3.7.10"
  }
 },
 "nbformat": 4,
 "nbformat_minor": 5
}
