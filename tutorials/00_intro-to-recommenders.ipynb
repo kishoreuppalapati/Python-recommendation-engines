{
 "cells": [
  {
   "cell_type": "markdown",
   "id": "2b0c6eac",
   "metadata": {},
   "source": [
    "# Introduction to recommender systems  \n",
    "\n",
    "## Aim: \n",
    "\n",
    "The purpose of recommender systems is to match individual users to the product that they are most likely to interact with (or purchase) based on past data about how other users have interacted with the same or similar products.  \n",
    "\n",
    "This is based on generating a predictive score of item appeal for each individual user.   \n",
    "\n",
    "## Types of recommender systems  \n",
    "\n",
    "### Simple recommenders   \n",
    "\n",
    "These recommenders do not predict item appeal scores for individual users, but focus on ranking individual items by their mass appeal likelihood (i.e. item appeal predictions are based on past inferences of high appeal item characteristics). \n",
    "\n",
    "The metric for item ranking (i.e. whether it best reflects the intention behind displaying items to users) will greatly impact the quality of a simple recommender.   \n",
    "\n",
    "A method of weighting item ranking by the number of unique user interactions is also incorporated, as we consider an item with a high ranking but few user interactions recorded to be less appealing than an iterm with a slightly lower ranking but many user interactions recorded.  \n",
    "\n",
    "### Content-based recommenders    \n",
    "\n",
    "The key assumption is that an individual user will prefer items that are similar to items that they have interacted with before.  \n",
    "\n",
    "This system relies on:  \n",
    "+ Item metadata (i.e. consistently curated characteristics of an item).  \n",
    "+ Historical user item interaction data (i.e. product browsing history) from individual users.    \n",
    "\n",
    "A method of weighting historical purchases so that the most recent purchases are most highly weighted is also incorporated. This relies on a secondary assumption that the user will have relative freedom in interacting with all items by choice i.e. historical user interaction data is not skewed by the system itself.     \n",
    "\n",
    "However, a positive feedback loop can easily be created when users are recommended the same item types, which skews their browser history towards recommended item types.  \n",
    "\n",
    "### Collaborative filtering engines  \n",
    "\n",
    "The key assumption is that individual new users will behave similarly to past collective users (or user segments). Item predictive scores are calculated for individual users based on the likelihood of past similar users in interacting with this particular item.  \n",
    "\n",
    "These systems do not require item metadata for generating predictive scores and are widely used. "
   ]
  },
  {
   "cell_type": "markdown",
   "id": "512b2813",
   "metadata": {},
   "source": [
    "# Resources  \n",
    "\n",
    "+ A [Datacamp community tutorial](https://www.datacamp.com/community/tutorials/recommender-systems-python) covering an introduction to recommender systems for beginners.     \n",
    "+ Eugene Yan's [blog posts on recommender systems](https://eugeneyan.com/tag/recsys/)  \n",
    "+ Eugene Yan's [GitHub recommender systems tutorial](https://github.com/eugeneyan/recsys-nlp-graph)   "
   ]
  }
 ],
 "metadata": {
  "kernelspec": {
   "display_name": "Python 3",
   "language": "python",
   "name": "python3"
  },
  "language_info": {
   "codemirror_mode": {
    "name": "ipython",
    "version": 3
   },
   "file_extension": ".py",
   "mimetype": "text/x-python",
   "name": "python",
   "nbconvert_exporter": "python",
   "pygments_lexer": "ipython3",
   "version": "3.7.10"
  }
 },
 "nbformat": 4,
 "nbformat_minor": 5
}
